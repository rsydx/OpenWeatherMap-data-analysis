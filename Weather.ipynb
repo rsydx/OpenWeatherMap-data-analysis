{
  "nbformat": 4,
  "nbformat_minor": 0,
  "metadata": {
    "colab": {
      "name": "Weather.ipynb",
      "provenance": [],
      "authorship_tag": "ABX9TyPTyjGBYmDAQlzftEBHctbJ",
      "include_colab_link": true
    },
    "kernelspec": {
      "name": "python3",
      "display_name": "Python 3"
    }
  },
  "cells": [
    {
      "cell_type": "markdown",
      "metadata": {
        "id": "view-in-github",
        "colab_type": "text"
      },
      "source": [
        "<a href=\"https://colab.research.google.com/github/rsydx/OpenWeatherMap-data-analysis/blob/main/Weather.ipynb\" target=\"_parent\"><img src=\"https://colab.research.google.com/assets/colab-badge.svg\" alt=\"Open In Colab\"/></a>"
      ]
    },
    {
      "cell_type": "markdown",
      "metadata": {
        "id": "ZAUNUBum_vpw"
      },
      "source": [
        "A study how weather phenomena affected by latitude. For this project, we will collect 500 samples of weather data randomly distributed accross the globe. For more understanding of the dataset, we will use multiple method of data virtualization based on temperature, humidity, cloudiness and wind speed."
      ]
    },
    {
      "cell_type": "markdown",
      "metadata": {
        "id": "bbdyfJ1EBQmO"
      },
      "source": [
        "First of all, we need 500 random coordinates to span across wide range of possible latitudes(-90 to 90 degrees) and longitudes(-180 degrees to 180 degress)."
      ]
    },
    {
      "cell_type": "markdown",
      "metadata": {
        "id": "dfKYj9vLBpNA"
      },
      "source": [
        "Note: negative latitude indicates South and negative longitude indicates West"
      ]
    },
    {
      "cell_type": "code",
      "metadata": {
        "id": "IuZCuVwh_qin",
        "outputId": "410505e8-9553-45cc-a604-da7e55c954e3",
        "colab": {
          "base_uri": "https://localhost:8080/",
          "height": 340
        }
      },
      "source": [
        "import pandas as pd\n",
        "import numpy as np\n",
        "np.random.seed(120)\n",
        "lats=np.random.randint(-90, 90, size=500)\n",
        "longs=np.random.randint(-180, 180, size=500)\n",
        "coords = pd.DataFrame({\n",
        "    \"latitude\": lats,\n",
        "    \"longitude\": longs,\n",
        "})\n",
        "\n",
        "coords.head(10)"
      ],
      "execution_count": 20,
      "outputs": [
        {
          "output_type": "execute_result",
          "data": {
            "text/html": [
              "<div>\n",
              "<style scoped>\n",
              "    .dataframe tbody tr th:only-of-type {\n",
              "        vertical-align: middle;\n",
              "    }\n",
              "\n",
              "    .dataframe tbody tr th {\n",
              "        vertical-align: top;\n",
              "    }\n",
              "\n",
              "    .dataframe thead th {\n",
              "        text-align: right;\n",
              "    }\n",
              "</style>\n",
              "<table border=\"1\" class=\"dataframe\">\n",
              "  <thead>\n",
              "    <tr style=\"text-align: right;\">\n",
              "      <th></th>\n",
              "      <th>latitude</th>\n",
              "      <th>longitude</th>\n",
              "    </tr>\n",
              "  </thead>\n",
              "  <tbody>\n",
              "    <tr>\n",
              "      <th>0</th>\n",
              "      <td>77</td>\n",
              "      <td>-163</td>\n",
              "    </tr>\n",
              "    <tr>\n",
              "      <th>1</th>\n",
              "      <td>-90</td>\n",
              "      <td>23</td>\n",
              "    </tr>\n",
              "    <tr>\n",
              "      <th>2</th>\n",
              "      <td>68</td>\n",
              "      <td>-136</td>\n",
              "    </tr>\n",
              "    <tr>\n",
              "      <th>3</th>\n",
              "      <td>36</td>\n",
              "      <td>-3</td>\n",
              "    </tr>\n",
              "    <tr>\n",
              "      <th>4</th>\n",
              "      <td>-80</td>\n",
              "      <td>-57</td>\n",
              "    </tr>\n",
              "    <tr>\n",
              "      <th>5</th>\n",
              "      <td>-43</td>\n",
              "      <td>-145</td>\n",
              "    </tr>\n",
              "    <tr>\n",
              "      <th>6</th>\n",
              "      <td>-34</td>\n",
              "      <td>126</td>\n",
              "    </tr>\n",
              "    <tr>\n",
              "      <th>7</th>\n",
              "      <td>-6</td>\n",
              "      <td>57</td>\n",
              "    </tr>\n",
              "    <tr>\n",
              "      <th>8</th>\n",
              "      <td>87</td>\n",
              "      <td>-99</td>\n",
              "    </tr>\n",
              "    <tr>\n",
              "      <th>9</th>\n",
              "      <td>-46</td>\n",
              "      <td>-177</td>\n",
              "    </tr>\n",
              "  </tbody>\n",
              "</table>\n",
              "</div>"
            ],
            "text/plain": [
              "   latitude  longitude\n",
              "0        77       -163\n",
              "1       -90         23\n",
              "2        68       -136\n",
              "3        36         -3\n",
              "4       -80        -57\n",
              "5       -43       -145\n",
              "6       -34        126\n",
              "7        -6         57\n",
              "8        87        -99\n",
              "9       -46       -177"
            ]
          },
          "metadata": {
            "tags": []
          },
          "execution_count": 20
        }
      ]
    },
    {
      "cell_type": "code",
      "metadata": {
        "id": "3JhSmzAzCCKH",
        "outputId": "6f0caf8a-ee8c-4f19-ba60-420561bbcbd1",
        "colab": {
          "base_uri": "https://localhost:8080/",
          "height": 268
        }
      },
      "source": [
        "import matplotlib.pyplot as plt\n",
        "import seaborn\n",
        "\n",
        "\n",
        "seaborn.set()\n",
        "\n",
        "plt.hist(coords['latitude'])\n",
        "plt.show()"
      ],
      "execution_count": 21,
      "outputs": [
        {
          "output_type": "display_data",
          "data": {
            "image/png": "[encoded data removed]",
            "text/plain": [
              "<Figure size 432x288 with 1 Axes>"
            ]
          },
          "metadata": {
            "tags": []
          }
        }
      ]
    },
    {
      "cell_type": "code",
      "metadata": {
        "id": "0EUc-DSACTJ5",
        "outputId": "f218f10d-558c-482a-a39b-c1c25324c36c",
        "colab": {
          "base_uri": "https://localhost:8080/",
          "height": 268
        }
      },
      "source": [
        "plt.hist(coords['longitude'])\n",
        "plt.show()"
      ],
      "execution_count": 22,
      "outputs": [
        {
          "output_type": "display_data",
          "data": {
            "image/png": "[encoded data removed]",
            "text/plain": [
              "<Figure size 432x288 with 1 Axes>"
            ]
          },
          "metadata": {
            "tags": []
          }
        }
      ]
    },
    {
      "cell_type": "markdown",
      "metadata": {
        "id": "1RNSUIB1CZQP"
      },
      "source": [
        "**Setting up weather API**"
      ]
    },
    {
      "cell_type": "markdown",
      "metadata": {
        "id": "B3gOj3HACcqZ"
      },
      "source": [
        "For this project we will use OpenWeatherData API"
      ]
    },
    {
      "cell_type": "code",
      "metadata": {
        "id": "o7FeROsfDny2"
      },
      "source": [
        "import requests\n",
        "import time\n",
        "API_KEY='4586c7c86ec511e45bad920ccfa925b2'\n",
        "\n",
        "def get_weather_data(coords, time_between=1):\n",
        "    \"\"\"Queries the OpenWeatherAPI for data.\n",
        "\n",
        "    Args:\n",
        "        coords: A Pandas DataFrame with rows containing 'latitude'\n",
        "            and 'longitude' columns.\n",
        "        time_between: An integer specifying the sleep time in seconds\n",
        "            between each API ping.  Defaults to the OpenWeatherAPI's\n",
        "            recommended limit of 1 request per second.\n",
        "\n",
        "    Returns:\n",
        "        A list of nested dicts (loaded JSON results).\n",
        "    \"\"\"\n",
        "    results = []\n",
        "    for ind, row in coords.iterrows():\n",
        "        lat, lon = row['latitude'], row['longitude']\n",
        "        query = f\"http://api.openweathermap.org/data/2.5/weather?lat={lat}&lon={lon}&APPID={API_KEY}\"\n",
        "        response = requests.get(query)\n",
        "        results.append(response.json())\n",
        "        time.sleep(time_between)\n",
        "    return results"
      ],
      "execution_count": 23,
      "outputs": []
    },
    {
      "cell_type": "markdown",
      "metadata": {
        "id": "wLNuEeUWEkU4"
      },
      "source": [
        "requests is used to make a **get** request, and then using the json function to immediately process response into a Python dict."
      ]
    },
    {
      "cell_type": "markdown",
      "metadata": {
        "id": "1lojsujQE4VY"
      },
      "source": [
        "**Getting the data**"
      ]
    },
    {
      "cell_type": "markdown",
      "metadata": {
        "id": "5WoTmbvaF5rA"
      },
      "source": [
        ""
      ]
    },
    {
      "cell_type": "code",
      "metadata": {
        "id": "SDjQXmnXFNUL",
        "outputId": "cd41c062-5077-4b7f-fca8-36ecf826d925",
        "colab": {
          "base_uri": "https://localhost:8080/",
          "height": 426
        }
      },
      "source": [
        "test_coords =pd.DataFrame({\"latitude\":[30], \"longitude\":[-120]})\n",
        "test_results = get_weather_data(test_coords)\n",
        "test_results"
      ],
      "execution_count": 24,
      "outputs": [
        {
          "output_type": "execute_result",
          "data": {
            "text/plain": [
              "[{'base': 'stations',\n",
              "  'clouds': {'all': 0},\n",
              "  'cod': 200,\n",
              "  'coord': {'lat': 30, 'lon': -120},\n",
              "  'dt': 1601907023,\n",
              "  'id': 0,\n",
              "  'main': {'feels_like': 296.93,\n",
              "   'grnd_level': 1015,\n",
              "   'humidity': 84,\n",
              "   'pressure': 1015,\n",
              "   'sea_level': 1015,\n",
              "   'temp': 294.71,\n",
              "   'temp_max': 294.71,\n",
              "   'temp_min': 294.71},\n",
              "  'name': '',\n",
              "  'sys': {'sunrise': 1601906154, 'sunset': 1601948417},\n",
              "  'timezone': -25200,\n",
              "  'visibility': 10000,\n",
              "  'weather': [{'description': 'clear sky',\n",
              "    'icon': '01d',\n",
              "    'id': 800,\n",
              "    'main': 'Clear'}],\n",
              "  'wind': {'deg': 33, 'speed': 1.28}}]"
            ]
          },
          "metadata": {
            "tags": []
          },
          "execution_count": 24
        }
      ]
    },
    {
      "cell_type": "code",
      "metadata": {
        "id": "f20A9WnbGEPI",
        "outputId": "9e3d1b42-4e15-4ab5-9b3d-3177e0131fd4",
        "colab": {
          "base_uri": "https://localhost:8080/",
          "height": 1000
        }
      },
      "source": [
        "full_results = get_weather_data(coords)\n",
        "full_results[:3]  # Let's peek at the first 3 datapoints"
      ],
      "execution_count": 25,
      "outputs": [
        {
          "output_type": "execute_result",
          "data": {
            "text/plain": [
              "[{'base': 'stations',\n",
              "  'clouds': {'all': 100},\n",
              "  'cod': 200,\n",
              "  'coord': {'lat': 77, 'lon': -163},\n",
              "  'dt': 1601907208,\n",
              "  'id': 0,\n",
              "  'main': {'feels_like': 263.45,\n",
              "   'grnd_level': 1008,\n",
              "   'humidity': 95,\n",
              "   'pressure': 1008,\n",
              "   'sea_level': 1008,\n",
              "   'temp': 271.71,\n",
              "   'temp_max': 271.71,\n",
              "   'temp_min': 271.71},\n",
              "  'name': '',\n",
              "  'sys': {'sunrise': 1601920489, 'sunset': 1601954718},\n",
              "  'timezone': -39600,\n",
              "  'visibility': 8568,\n",
              "  'weather': [{'description': 'overcast clouds',\n",
              "    'icon': '04n',\n",
              "    'id': 804,\n",
              "    'main': 'Clouds'}],\n",
              "  'wind': {'deg': 295, 'speed': 8.55}},\n",
              " {'base': 'stations',\n",
              "  'clouds': {'all': 100},\n",
              "  'cod': 200,\n",
              "  'coord': {'lat': -90, 'lon': 23},\n",
              "  'dt': 1601907209,\n",
              "  'id': 0,\n",
              "  'main': {'feels_like': 223.47,\n",
              "   'grnd_level': 687,\n",
              "   'humidity': 70,\n",
              "   'pressure': 1021,\n",
              "   'sea_level': 1021,\n",
              "   'temp': 229.63,\n",
              "   'temp_max': 229.63,\n",
              "   'temp_min': 229.63},\n",
              "  'name': '',\n",
              "  'sys': {'sunrise': 0, 'sunset': 0},\n",
              "  'timezone': 46800,\n",
              "  'visibility': 10000,\n",
              "  'weather': [{'description': 'overcast clouds',\n",
              "    'icon': '04n',\n",
              "    'id': 804,\n",
              "    'main': 'Clouds'}],\n",
              "  'wind': {'deg': 338, 'speed': 3.13}},\n",
              " {'base': 'stations',\n",
              "  'clouds': {'all': 90},\n",
              "  'cod': 200,\n",
              "  'coord': {'lat': 68, 'lon': -136},\n",
              "  'dt': 1601907210,\n",
              "  'id': 5882953,\n",
              "  'main': {'feels_like': 270.15,\n",
              "   'humidity': 100,\n",
              "   'pressure': 1002,\n",
              "   'temp': 274.15,\n",
              "   'temp_max': 274.15,\n",
              "   'temp_min': 274.15},\n",
              "  'name': 'Aklavik',\n",
              "  'sys': {'country': 'CA',\n",
              "   'id': 821,\n",
              "   'sunrise': 1601912013,\n",
              "   'sunset': 1601950236,\n",
              "   'type': 1},\n",
              "  'timezone': -21600,\n",
              "  'visibility': 10000,\n",
              "  'weather': [{'description': 'overcast clouds',\n",
              "    'icon': '04n',\n",
              "    'id': 804,\n",
              "    'main': 'Clouds'}],\n",
              "  'wind': {'deg': 350, 'speed': 3.1}}]"
            ]
          },
          "metadata": {
            "tags": []
          },
          "execution_count": 25
        }
      ]
    },
    {
      "cell_type": "markdown",
      "metadata": {
        "id": "AOOpeDLvJ1oq"
      },
      "source": [
        "**Saving the data**"
      ]
    },
    {
      "cell_type": "code",
      "metadata": {
        "id": "0PdGrMXNJ5Ed"
      },
      "source": [
        "import json\n",
        "with open(\"weather.json\",\"w\") as outfile:\n",
        "  json.dump(full_results, outfile)"
      ],
      "execution_count": 26,
      "outputs": []
    },
    {
      "cell_type": "markdown",
      "metadata": {
        "id": "gpJDUucWKIxj"
      },
      "source": [
        "Unit conversion"
      ]
    },
    {
      "cell_type": "code",
      "metadata": {
        "id": "t4QGZU9KKIKC"
      },
      "source": [
        "def k_to_f(temp):\n",
        "  \"\"\"\n",
        "  convert a Kelvin temperature to fahrenheit\n",
        "  \"\"\"\n",
        "  return temp *9/5 -459.67\n",
        "\n",
        "def mps_to_mph(speed):\n",
        "  \"\"\"converts a meters/s speed to miles/hour\"\"\"\n",
        "  return speed * 2.23694"
      ],
      "execution_count": 28,
      "outputs": []
    },
    {
      "cell_type": "markdown",
      "metadata": {
        "id": "XfHhJmgPKqCO"
      },
      "source": [
        "**The data structure**"
      ]
    },
    {
      "cell_type": "code",
      "metadata": {
        "id": "JhGrUWViK9fN",
        "outputId": "6aebdadf-815f-4d79-b17d-737f1c275175",
        "colab": {
          "base_uri": "https://localhost:8080/",
          "height": 194
        }
      },
      "source": [
        "important_json_data = []\n",
        "for point in full_results:\n",
        "    lat = point['coord']['lat']\n",
        "    lon = point['coord']['lon']\n",
        "    temp = k_to_f(point['main']['temp'])\n",
        "    humidity = point['main']['humidity']\n",
        "    cloudiness = point['clouds']['all']\n",
        "    wind = mps_to_mph(point['wind']['speed'])\n",
        "\n",
        "    row = [lat, lon, temp, humidity, cloudiness, wind]\n",
        "    important_json_data.append(row)\n",
        "\n",
        "weather_df = pd.DataFrame(important_json_data)\n",
        "weather_df.columns = [\n",
        "    \"latitude\",\n",
        "    \"longitude\",\n",
        "    \"temperature\",\n",
        "    \"humidity\",\n",
        "    \"clouds\",\n",
        "    \"wind\",\n",
        "]\n",
        "weather_df.head()"
      ],
      "execution_count": 29,
      "outputs": [
        {
          "output_type": "execute_result",
          "data": {
            "text/html": [
              "<div>\n",
              "<style scoped>\n",
              "    .dataframe tbody tr th:only-of-type {\n",
              "        vertical-align: middle;\n",
              "    }\n",
              "\n",
              "    .dataframe tbody tr th {\n",
              "        vertical-align: top;\n",
              "    }\n",
              "\n",
              "    .dataframe thead th {\n",
              "        text-align: right;\n",
              "    }\n",
              "</style>\n",
              "<table border=\"1\" class=\"dataframe\">\n",
              "  <thead>\n",
              "    <tr style=\"text-align: right;\">\n",
              "      <th></th>\n",
              "      <th>latitude</th>\n",
              "      <th>longitude</th>\n",
              "      <th>temperature</th>\n",
              "      <th>humidity</th>\n",
              "      <th>clouds</th>\n",
              "      <th>wind</th>\n",
              "    </tr>\n",
              "  </thead>\n",
              "  <tbody>\n",
              "    <tr>\n",
              "      <th>0</th>\n",
              "      <td>77</td>\n",
              "      <td>-163</td>\n",
              "      <td>29.408</td>\n",
              "      <td>95</td>\n",
              "      <td>100</td>\n",
              "      <td>19.125837</td>\n",
              "    </tr>\n",
              "    <tr>\n",
              "      <th>1</th>\n",
              "      <td>-90</td>\n",
              "      <td>23</td>\n",
              "      <td>-46.336</td>\n",
              "      <td>70</td>\n",
              "      <td>100</td>\n",
              "      <td>7.001622</td>\n",
              "    </tr>\n",
              "    <tr>\n",
              "      <th>2</th>\n",
              "      <td>68</td>\n",
              "      <td>-136</td>\n",
              "      <td>33.800</td>\n",
              "      <td>100</td>\n",
              "      <td>90</td>\n",
              "      <td>6.934514</td>\n",
              "    </tr>\n",
              "    <tr>\n",
              "      <th>3</th>\n",
              "      <td>36</td>\n",
              "      <td>-3</td>\n",
              "      <td>68.108</td>\n",
              "      <td>65</td>\n",
              "      <td>92</td>\n",
              "      <td>14.115091</td>\n",
              "    </tr>\n",
              "    <tr>\n",
              "      <th>4</th>\n",
              "      <td>-80</td>\n",
              "      <td>-57</td>\n",
              "      <td>-23.872</td>\n",
              "      <td>76</td>\n",
              "      <td>0</td>\n",
              "      <td>6.196324</td>\n",
              "    </tr>\n",
              "  </tbody>\n",
              "</table>\n",
              "</div>"
            ],
            "text/plain": [
              "   latitude  longitude  temperature  humidity  clouds       wind\n",
              "0        77       -163       29.408        95     100  19.125837\n",
              "1       -90         23      -46.336        70     100   7.001622\n",
              "2        68       -136       33.800       100      90   6.934514\n",
              "3        36         -3       68.108        65      92  14.115091\n",
              "4       -80        -57      -23.872        76       0   6.196324"
            ]
          },
          "metadata": {
            "tags": []
          },
          "execution_count": 29
        }
      ]
    },
    {
      "cell_type": "code",
      "metadata": {
        "id": "9EJkzc07LvXL"
      },
      "source": [
        "weather_df.to_csv(\"weather.csv\")"
      ],
      "execution_count": 30,
      "outputs": []
    },
    {
      "cell_type": "markdown",
      "metadata": {
        "id": "iVDc2DDML1_W"
      },
      "source": [
        "**Plotting the data**"
      ]
    },
    {
      "cell_type": "markdown",
      "metadata": {
        "id": "TAcrXlZUL6Vr"
      },
      "source": [
        "Temperature"
      ]
    },
    {
      "cell_type": "code",
      "metadata": {
        "id": "XYwwSyoFL76c",
        "outputId": "7e57355a-5a33-42ea-e2c1-99955495ac8e",
        "colab": {
          "base_uri": "https://localhost:8080/",
          "height": 301
        }
      },
      "source": [
        "plt.scatter(weather_df.temperature,weather_df.latitude)\n",
        "plt.xlabel(\"Temperature (F)\")\n",
        "plt.ylabel(\"Latitude (degrees)\")\n",
        "plt.title(\"Temperature vs. Latitude\")\n",
        "plt.show()"
      ],
      "execution_count": 31,
      "outputs": [
        {
          "output_type": "display_data",
          "data": {
            "image/png": "[encoded data removed]",
            "text/plain": [
              "<Figure size 432x288 with 1 Axes>"
            ]
          },
          "metadata": {
            "tags": []
          }
        }
      ]
    },
    {
      "cell_type": "markdown",
      "metadata": {
        "id": "EKfR5j8wMXi5"
      },
      "source": [
        "Humidity"
      ]
    },
    {
      "cell_type": "code",
      "metadata": {
        "id": "r8rF87PeMYtZ",
        "outputId": "445c3f26-74fe-42c0-9fd5-5602f6e8b7bb",
        "colab": {
          "base_uri": "https://localhost:8080/",
          "height": 301
        }
      },
      "source": [
        "plt.scatter(weather_df.humidity, weather_df.latitude)\n",
        "plt.xlabel(\"Humidity (%)\")\n",
        "plt.ylabel(\"Latitude (degrees)\")\n",
        "plt.title(\"Humidity vs. Latitude\")\n",
        "plt.show()"
      ],
      "execution_count": 32,
      "outputs": [
        {
          "output_type": "display_data",
          "data": {
            "image/png": "[encoded data removed]",
            "text/plain": [
              "<Figure size 432x288 with 1 Axes>"
            ]
          },
          "metadata": {
            "tags": []
          }
        }
      ]
    },
    {
      "cell_type": "markdown",
      "metadata": {
        "id": "iirUOKx4MfeW"
      },
      "source": [
        "Cloudiness"
      ]
    },
    {
      "cell_type": "code",
      "metadata": {
        "id": "gvm8nAcnMiRU",
        "outputId": "5a7cffa6-fe99-4b14-bf96-e5ce3a8a4a4f",
        "colab": {
          "base_uri": "https://localhost:8080/",
          "height": 301
        }
      },
      "source": [
        "plt.scatter(weather_df.clouds, weather_df.latitude)\n",
        "plt.xlabel(\"Cloudiness (%)\")\n",
        "plt.ylabel(\"Latitude (degrees)\")\n",
        "plt.title(\"Cloudiness vs. Latitude\")\n",
        "plt.show()"
      ],
      "execution_count": 34,
      "outputs": [
        {
          "output_type": "display_data",
          "data": {
            "image/png": "[encoded data removed]",
            "text/plain": [
              "<Figure size 432x288 with 1 Axes>"
            ]
          },
          "metadata": {
            "tags": []
          }
        }
      ]
    },
    {
      "cell_type": "markdown",
      "metadata": {
        "id": "wcqwecD0MzyV"
      },
      "source": [
        "Wind Speed"
      ]
    },
    {
      "cell_type": "code",
      "metadata": {
        "id": "E-ceyuUTM1Gk",
        "outputId": "17cecc64-b425-4e61-c3a8-f1e32bd21c65",
        "colab": {
          "base_uri": "https://localhost:8080/",
          "height": 301
        }
      },
      "source": [
        "plt.scatter(weather_df['wind'], weather_df['latitude'])\n",
        "plt.xlabel(\"Wind Speed (mph (abs))\")\n",
        "plt.ylabel(\"Latitude (degrees)\")\n",
        "plt.title(\"Wind Speed vs. Latitude\")\n",
        "plt.show()"
      ],
      "execution_count": 36,
      "outputs": [
        {
          "output_type": "display_data",
          "data": {
            "image/png": "[encoded data removed]",
            "text/plain": [
              "<Figure size 432x288 with 1 Axes>"
            ]
          },
          "metadata": {
            "tags": []
          }
        }
      ]
    },
    {
      "cell_type": "markdown",
      "metadata": {
        "id": "k15rHkXSM-xB"
      },
      "source": [
        "The is a clear spikes at about -50 degrees and 50 degrees."
      ]
    }
  ]
}